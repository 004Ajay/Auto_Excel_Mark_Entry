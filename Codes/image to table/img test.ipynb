{
 "cells": [
  {
   "cell_type": "code",
   "execution_count": 18,
   "id": "ff1d5d72",
   "metadata": {},
   "outputs": [],
   "source": [
    "from img2table.document import Image\n",
    "from img2table.ocr import TesseractOCR\n",
    "pytesseract.pytesseract.tesseract_cmd = r\"C:/Program Files/Tesseract-OCR/tesseract.exe\""
   ]
  },
  {
   "cell_type": "code",
   "execution_count": null,
   "id": "a2933446",
   "metadata": {},
   "outputs": [],
   "source": []
  },
  {
   "cell_type": "code",
   "execution_count": 19,
   "id": "b51fc1ff",
   "metadata": {},
   "outputs": [],
   "source": [
    "# Instantiation of the image\n",
    "img = Image(src=\"adarsh.jpg\")"
   ]
  },
  {
   "cell_type": "code",
   "execution_count": 20,
   "id": "17d1121a",
   "metadata": {},
   "outputs": [],
   "source": [
    "\n",
    "ocr_pt = TesseractOCR(lang=\"eng\")\n",
    "\n"
   ]
  },
  {
   "cell_type": "code",
   "execution_count": 21,
   "id": "8cdf1689",
   "metadata": {},
   "outputs": [],
   "source": [
    "# Table identification\n",
    "img_tables = img.extract_tables()"
   ]
  },
  {
   "cell_type": "code",
   "execution_count": 22,
   "id": "d4801fdf",
   "metadata": {},
   "outputs": [
    {
     "data": {
      "text/plain": [
       "[ExtractedTable(title=None, bbox=(983, 184, 1020, 240),shape=(2, 1)),\n",
       " ExtractedTable(title=None, bbox=(1167, 773, 1490, 1097),shape=(2, 2)),\n",
       " ExtractedTable(title=None, bbox=(203, 1280, 1486, 1766),shape=(5, 13))]"
      ]
     },
     "execution_count": 22,
     "metadata": {},
     "output_type": "execute_result"
    }
   ],
   "source": [
    "# Result of table identification\n",
    "img_tables"
   ]
  },
  {
   "cell_type": "code",
   "execution_count": null,
   "id": "a2a8bdeb",
   "metadata": {},
   "outputs": [],
   "source": []
  },
  {
   "cell_type": "code",
   "execution_count": null,
   "id": "9ed3fdfc",
   "metadata": {},
   "outputs": [],
   "source": []
  },
  {
   "cell_type": "code",
   "execution_count": null,
   "id": "aa14b49c",
   "metadata": {},
   "outputs": [],
   "source": []
  },
  {
   "cell_type": "code",
   "execution_count": null,
   "id": "e6e15276",
   "metadata": {},
   "outputs": [],
   "source": []
  },
  {
   "cell_type": "code",
   "execution_count": null,
   "id": "f9a36091",
   "metadata": {},
   "outputs": [],
   "source": []
  },
  {
   "cell_type": "code",
   "execution_count": null,
   "id": "65df4e09",
   "metadata": {},
   "outputs": [],
   "source": [
    "import matplotlib.pyplot as plt"
   ]
  },
  {
   "cell_type": "code",
   "execution_count": null,
   "id": "da711d39",
   "metadata": {},
   "outputs": [],
   "source": [
    "crp = img[82:2200, 91:866] #, 2200, 866]"
   ]
  },
  {
   "cell_type": "code",
   "execution_count": null,
   "id": "505156f6",
   "metadata": {},
   "outputs": [],
   "source": [
    "plt.imshow(crp)"
   ]
  },
  {
   "cell_type": "code",
   "execution_count": null,
   "id": "8da0ed23",
   "metadata": {},
   "outputs": [],
   "source": []
  }
 ],
 "metadata": {
  "kernelspec": {
   "display_name": "Python 3 (ipykernel)",
   "language": "python",
   "name": "python3"
  },
  "language_info": {
   "codemirror_mode": {
    "name": "ipython",
    "version": 3
   },
   "file_extension": ".py",
   "mimetype": "text/x-python",
   "name": "python",
   "nbconvert_exporter": "python",
   "pygments_lexer": "ipython3",
   "version": "3.10.8"
  }
 },
 "nbformat": 4,
 "nbformat_minor": 5
}
