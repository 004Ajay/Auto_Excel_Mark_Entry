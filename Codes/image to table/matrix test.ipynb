{
 "cells": [
  {
   "cell_type": "code",
   "execution_count": null,
   "id": "c6b8c62d",
   "metadata": {},
   "outputs": [],
   "source": [
    "matrix = [[28, 52, 14, 5, 11, 43, 77, 10, 25, 54, 73, 17],\n",
    "          [39, 44, 56, 45, 87, 78, 48, 51, 37, 66, 16, 25],\n",
    "          [88, 0, 33, 31, 6, 100, 27, 40, 39, 42, 71, 40]]\n",
    "\n",
    "num_columns = len(matrix[0])\n",
    "num_rows = len(matrix)\n",
    "\n",
    "for j in range(num_columns):\n",
    "    for i in range(num_rows):\n",
    "        print(matrix[i][j], end=' ')\n",
    "    print()"
   ]
  },
  {
   "cell_type": "code",
   "execution_count": 1,
   "id": "73046928",
   "metadata": {},
   "outputs": [
    {
     "name": "stdout",
     "output_type": "stream",
     "text": [
      "[['4'], [None], [None], [None], [None], [None], [None], [None], [None], [None], [None], [None], ['2'], [None], [None], [None], ['22'], [None], [None], [None], [None], [None], [None], [None], [None], [None], [None], [None], [None], [None], [None], [None], [None], [None], [None], [None], [None], [None], [None], [None], ['3'], [None], [None], [None]]\n"
     ]
    }
   ],
   "source": [
    "matrix = [['4', None, None, '2', '22', None, None, None, None, None, '3'],\n",
    "          [None, None, None, None, None, None, None, None, None, None, None],\n",
    "          [None, None, None, None, None, None, None, None, None, None, None],\n",
    "          [None, None, None, None, None, None, None, None, None, None, None]]\n",
    "\n",
    "# Get the number of columns in the matrix\n",
    "num_columns = len(matrix[0])\n",
    "\n",
    "# Create a new list for each individual value in the matrix\n",
    "all_values = [[] for _ in range(len(matrix)*len(matrix[0]))]\n",
    "\n",
    "# Iterate through each column\n",
    "for col_index in range(num_columns):\n",
    "    # Iterate through each row in the current column\n",
    "    for row_index in range(len(matrix)):\n",
    "        # Get the value at the current row and column\n",
    "        value = matrix[row_index][col_index]\n",
    "        # Append the value to the list of all values\n",
    "        all_values[col_index*len(matrix)+row_index].append(value)\n",
    "\n",
    "# Print the list of all values\n",
    "print(all_values)\n"
   ]
  },
  {
   "cell_type": "code",
   "execution_count": 3,
   "id": "71f8cae1",
   "metadata": {},
   "outputs": [],
   "source": [
    "import numpy as np"
   ]
  },
  {
   "cell_type": "code",
   "execution_count": 7,
   "id": "1bb6ad37",
   "metadata": {},
   "outputs": [
    {
     "data": {
      "text/plain": [
       "array([[1, 2],\n",
       "       [3, 4]])"
      ]
     },
     "execution_count": 7,
     "metadata": {},
     "output_type": "execute_result"
    }
   ],
   "source": [
    "a = np.array([[1,2], [3,4]])\n",
    "a"
   ]
  },
  {
   "cell_type": "code",
   "execution_count": 11,
   "id": "acf71c03",
   "metadata": {},
   "outputs": [
    {
     "data": {
      "text/plain": [
       "array([1, 2, 3, 4])"
      ]
     },
     "execution_count": 11,
     "metadata": {},
     "output_type": "execute_result"
    }
   ],
   "source": [
    "flat = a.flatten(order='K')\n",
    "flat"
   ]
  },
  {
   "cell_type": "code",
   "execution_count": null,
   "id": "20a32981",
   "metadata": {},
   "outputs": [],
   "source": []
  },
  {
   "cell_type": "code",
   "execution_count": null,
   "id": "d301a68d",
   "metadata": {},
   "outputs": [],
   "source": []
  },
  {
   "cell_type": "code",
   "execution_count": null,
   "id": "688865f7",
   "metadata": {},
   "outputs": [],
   "source": []
  },
  {
   "cell_type": "code",
   "execution_count": null,
   "id": "b9f19343",
   "metadata": {},
   "outputs": [],
   "source": []
  },
  {
   "cell_type": "code",
   "execution_count": null,
   "id": "34898a31",
   "metadata": {},
   "outputs": [],
   "source": []
  },
  {
   "cell_type": "code",
   "execution_count": null,
   "id": "8feb224c",
   "metadata": {},
   "outputs": [],
   "source": []
  },
  {
   "cell_type": "code",
   "execution_count": null,
   "id": "401c380e",
   "metadata": {},
   "outputs": [],
   "source": []
  },
  {
   "cell_type": "code",
   "execution_count": null,
   "id": "6f264d04",
   "metadata": {},
   "outputs": [],
   "source": []
  },
  {
   "cell_type": "code",
   "execution_count": null,
   "id": "adaa85b3",
   "metadata": {},
   "outputs": [],
   "source": []
  },
  {
   "cell_type": "code",
   "execution_count": null,
   "id": "8b6ba751",
   "metadata": {},
   "outputs": [],
   "source": []
  }
 ],
 "metadata": {
  "kernelspec": {
   "display_name": "Python 3 (ipykernel)",
   "language": "python",
   "name": "python3"
  },
  "language_info": {
   "codemirror_mode": {
    "name": "ipython",
    "version": 3
   },
   "file_extension": ".py",
   "mimetype": "text/x-python",
   "name": "python",
   "nbconvert_exporter": "python",
   "pygments_lexer": "ipython3",
   "version": "3.10.8"
  }
 },
 "nbformat": 4,
 "nbformat_minor": 5
}
