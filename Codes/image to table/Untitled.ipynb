{
 "cells": [
  {
   "cell_type": "code",
   "execution_count": 2,
   "id": "2e382d0b",
   "metadata": {},
   "outputs": [
    {
     "name": "stdout",
     "output_type": "stream",
     "text": [
      "   A   B  C  sum Sum_more_than_50\n",
      "0  1   4  7   12                 \n",
      "1  2  55  8   65            Error\n",
      "2  3   6  9   18                 \n"
     ]
    }
   ],
   "source": [
    "import pandas as pd\n",
    "\n",
    "# create a sample DataFrame\n",
    "df = pd.DataFrame({'A': [1, 2, 3], 'B': [4, 55, 6], 'C': [7, 8, 9]})\n",
    "\n",
    "# create a new column \"row_sum\" with the sum of each row\n",
    "df = df.assign(sum=df.sum(axis=1))\n",
    "\n",
    "# add a new column \"error\" with \"Error\" if row_sum is greater than 50\n",
    "df = df.assign(Sum_more_than_50=df.apply(lambda x: 'Error' if x['sum'] > 50 else '', axis=1))\n",
    "\n",
    "print(df)\n",
    "\n",
    "df.to_csv(\"my.csv\", index=False)"
   ]
  },
  {
   "cell_type": "code",
   "execution_count": null,
   "id": "b6e71e69",
   "metadata": {},
   "outputs": [],
   "source": []
  }
 ],
 "metadata": {
  "kernelspec": {
   "display_name": "Python 3 (ipykernel)",
   "language": "python",
   "name": "python3"
  },
  "language_info": {
   "codemirror_mode": {
    "name": "ipython",
    "version": 3
   },
   "file_extension": ".py",
   "mimetype": "text/x-python",
   "name": "python",
   "nbconvert_exporter": "python",
   "pygments_lexer": "ipython3",
   "version": "3.10.8"
  }
 },
 "nbformat": 4,
 "nbformat_minor": 5
}
